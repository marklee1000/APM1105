{
 "cells": [
  {
   "cell_type": "code",
   "execution_count": 36,
   "id": "651c2cb2",
   "metadata": {},
   "outputs": [
    {
     "name": "stdout",
     "output_type": "stream",
     "text": [
      "Type the number of kilometers: 10\n",
      "How many minutes? 42\n",
      "How many additional seconds? 42\n",
      "\n",
      "1.)\n",
      "There are 6.2112 miles in 10.0 kilometers.\n",
      "\n",
      "2.)\n",
      "Your average pace is 6.8747 minutes and seconds per mile.\n",
      "Your average speed is 8.7277 miles per hour.\n"
     ]
    }
   ],
   "source": [
    "import os\n",
    "\n",
    "print(\"Calculator for Miles, Average Pace, and Average Speed\\n\")\n",
    "\n",
    "km = float(input('Type the number of kilometers: '))\n",
    "mi = km/1.61\n",
    "roundmi = round(mi, 4)\n",
    "min = float(input('How many minutes? '))\n",
    "sec_in = float(input('How many additional seconds? '))\n",
    "sec = min*60+sec_in\n",
    "\n",
    "avg_pace = (sec/mi)/60\n",
    "round_pace = round(avg_pace, 4)\n",
    "hrs = sec/60/60\n",
    "avg_speed = mi/hrs\n",
    "round_speed = round(avg_speed, 4)\n",
    "\n",
    "print(\"\\n2.)\\nThere are\", roundmi, \"miles in\", km, \"kilometers.\")\n",
    "print(\"\\n3.)\\nYour average pace is\", round_pace, \"minutes and seconds per mile.\")\n",
    "print(\"Your average speed is\", round_speed, \"miles per hour.\\n\")\n",
    "os.system(\"pause\")"
   ]
  },
  {
   "cell_type": "code",
   "execution_count": null,
   "id": "bb63a45e",
   "metadata": {},
   "outputs": [],
   "source": []
  }
 ],
 "metadata": {
  "kernelspec": {
   "display_name": "Python 3 (ipykernel)",
   "language": "python",
   "name": "python3"
  },
  "language_info": {
   "codemirror_mode": {
    "name": "ipython",
    "version": 3
   },
   "file_extension": ".py",
   "mimetype": "text/x-python",
   "name": "python",
   "nbconvert_exporter": "python",
   "pygments_lexer": "ipython3",
   "version": "3.11.1"
  }
 },
 "nbformat": 4,
 "nbformat_minor": 5
}

{
 "cells": [
  {
   "cell_type": "code",
   "execution_count": 11,
   "metadata": {},
   "outputs": [
    {
     "name": "stdout",
     "output_type": "stream",
     "text": [
      "Calculator for Miles, Average Pace, and Average Speed\n",
      "\n",
      "Type the number of kilometers: 56\n",
      "\n",
      "2.)\n",
      "There are 34.7826 miles in 56.0 kilometers.\n",
      "\n",
      "3.)\n",
      "Your average pace is 6.8747 minutes and seconds per mile.\n",
      "Your average speed is 8.7277 miles per hour.\n",
      "\n"
     ]
    },
    {
     "data": {
      "text/plain": [
       "0"
      ]
     },
     "execution_count": 11,
     "metadata": {},
     "output_type": "execute_result"
    }
   ],
   "source": [
    "import os\n",
    "\n",
    "print(\"Calculator for Miles, Average Pace, and Average Speed\\n\")\n",
    "\n",
    "km = float(input('Type the number of kilometers: '))\n",
    "mi = km/1.61\n",
    "roundmi = round(mi, 4)\n",
    "min = (42/60)+42\n",
    "proportion = 6.2112/42.7\n",
    "\n",
    "avg_pace = ((proportion)**-1)\n",
    "round_pace = round(avg_pace, 4)\n",
    "avg_speed = proportion*60\n",
    "round_speed = round(avg_speed, 4)\n",
    "\n",
    "print(\"\\n2.)\\nThere are\", roundmi, \"miles in\", km, \"kilometers.\")\n",
    "print(\"\\n3.)\\nYour average pace is\", round_pace, \"minutes and seconds per mile.\")\n",
    "print(\"Your average speed is\", round_speed, \"miles per hour.\\n\")\n",
    "os.system(\"pause\")"
   ]
  },
  {
   "cell_type": "code",
   "execution_count": null,
   "metadata": {},
   "outputs": [],
   "source": []
  }
 ],
 "metadata": {
  "kernelspec": {
   "display_name": "Python 3",
   "language": "python",
   "name": "python3"
  },
  "language_info": {
   "codemirror_mode": {
    "name": "ipython",
    "version": 3
   },
   "file_extension": ".py",
   "mimetype": "text/x-python",
   "name": "python",
   "nbconvert_exporter": "python",
   "pygments_lexer": "ipython3",
   "version": "3.7.0"
  }
 },
 "nbformat": 4,
 "nbformat_minor": 5
}

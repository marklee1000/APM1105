{
 "cells": [
  {
   "cell_type": "code",
   "execution_count": 1,
   "metadata": {},
   "outputs": [
    {
     "name": "stdout",
     "output_type": "stream",
     "text": [
      "Sample List:  [5, 6, -1, 2, 4, -2, -10, 7]\n",
      "Sample Product:  -33600\n"
     ]
    }
   ],
   "source": [
    "'''\n",
    "1. Write a Python function to multiply all the numbers in a list.\n",
    "\n",
    "Sample List : (5, 6, -1, 2, 4, -2, -10, 7)\n",
    "'''\n",
    "import numpy as np\n",
    "\n",
    "\"\"\" Example \"\"\"\n",
    "\n",
    "def list_product():\n",
    "    samplelist = [5, 6, -1, 2, 4, -2, -10, 7]\n",
    "    sampleproduct = np.prod(samplelist)\n",
    "    print(\"Sample List: \", samplelist,)\n",
    "    print(\"Sample Product: \", sampleproduct,)\n",
    "\n",
    "list_product()"
   ]
  },
  {
   "cell_type": "code",
   "execution_count": 3,
   "metadata": {},
   "outputs": [
    {
     "name": "stdout",
     "output_type": "stream",
     "text": [
      "Sample Grid (4 x 4):\n",
      "🫎 * * * * 🫎 * * * * 🫎 * * * * 🫎 * * * * 🫎\n",
      "|         |         |         |         |\n",
      "|         |         |         |         |\n",
      "|         |         |         |         |\n",
      "|         |         |         |         |\n",
      "🫎 * * * * 🫎 * * * * 🫎 * * * * 🫎 * * * * 🫎\n",
      "|         |         |         |         |\n",
      "|         |         |         |         |\n",
      "|         |         |         |         |\n",
      "|         |         |         |         |\n",
      "🫎 * * * * 🫎 * * * * 🫎 * * * * 🫎 * * * * 🫎\n",
      "|         |         |         |         |\n",
      "|         |         |         |         |\n",
      "|         |         |         |         |\n",
      "|         |         |         |         |\n",
      "🫎 * * * * 🫎 * * * * 🫎 * * * * 🫎 * * * * 🫎\n",
      "|         |         |         |         |\n",
      "|         |         |         |         |\n",
      "|         |         |         |         |\n",
      "|         |         |         |         |\n",
      "🫎 * * * * 🫎 * * * * 🫎 * * * * 🫎 * * * * 🫎\n",
      "\n",
      "\n",
      "Enter a grid size (up to 7 only due to size restrictions): 7\n",
      "🫎 * * * * 🫎 * * * * 🫎 * * * * 🫎 * * * * 🫎 * * * * 🫎 * * * * 🫎 * * * * 🫎\n",
      "|         |         |         |         |         |         |         |\n",
      "|         |         |         |         |         |         |         |\n",
      "|         |         |         |         |         |         |         |\n",
      "|         |         |         |         |         |         |         |\n",
      "🫎 * * * * 🫎 * * * * 🫎 * * * * 🫎 * * * * 🫎 * * * * 🫎 * * * * 🫎 * * * * 🫎\n",
      "|         |         |         |         |         |         |         |\n",
      "|         |         |         |         |         |         |         |\n",
      "|         |         |         |         |         |         |         |\n",
      "|         |         |         |         |         |         |         |\n",
      "🫎 * * * * 🫎 * * * * 🫎 * * * * 🫎 * * * * 🫎 * * * * 🫎 * * * * 🫎 * * * * 🫎\n",
      "|         |         |         |         |         |         |         |\n",
      "|         |         |         |         |         |         |         |\n",
      "|         |         |         |         |         |         |         |\n",
      "|         |         |         |         |         |         |         |\n",
      "🫎 * * * * 🫎 * * * * 🫎 * * * * 🫎 * * * * 🫎 * * * * 🫎 * * * * 🫎 * * * * 🫎\n",
      "|         |         |         |         |         |         |         |\n",
      "|         |         |         |         |         |         |         |\n",
      "|         |         |         |         |         |         |         |\n",
      "|         |         |         |         |         |         |         |\n",
      "🫎 * * * * 🫎 * * * * 🫎 * * * * 🫎 * * * * 🫎 * * * * 🫎 * * * * 🫎 * * * * 🫎\n",
      "|         |         |         |         |         |         |         |\n",
      "|         |         |         |         |         |         |         |\n",
      "|         |         |         |         |         |         |         |\n",
      "|         |         |         |         |         |         |         |\n",
      "🫎 * * * * 🫎 * * * * 🫎 * * * * 🫎 * * * * 🫎 * * * * 🫎 * * * * 🫎 * * * * 🫎\n",
      "|         |         |         |         |         |         |         |\n",
      "|         |         |         |         |         |         |         |\n",
      "|         |         |         |         |         |         |         |\n",
      "|         |         |         |         |         |         |         |\n",
      "🫎 * * * * 🫎 * * * * 🫎 * * * * 🫎 * * * * 🫎 * * * * 🫎 * * * * 🫎 * * * * 🫎\n",
      "|         |         |         |         |         |         |         |\n",
      "|         |         |         |         |         |         |         |\n",
      "|         |         |         |         |         |         |         |\n",
      "|         |         |         |         |         |         |         |\n",
      "🫎 * * * * 🫎 * * * * 🫎 * * * * 🫎 * * * * 🫎 * * * * 🫎 * * * * 🫎 * * * * 🫎\n"
     ]
    }
   ],
   "source": [
    "\"\"\"\n",
    "    2. Write a function that draws a grid like the following:\n",
    "    \n",
    "    Note: You can use other symbols aside from '+' and '-'. Be innovative.\n",
    "\"\"\"\n",
    "\n",
    "def draw_grid(r):\n",
    "    gridline = ('🫎 * * * * '*r+'🫎')\n",
    "    gridspace = ('|         '*r+'|')\n",
    "    \n",
    "    for x in range(r):\n",
    "        print(gridline)\n",
    "        for x in range(4):\n",
    "            print(gridspace)\n",
    "    print(gridline)\n",
    "    \n",
    "print(\"Sample Grid (4 x 4):\")\n",
    "draw_grid(4)\n",
    "\n",
    "print(\"\\n\")\n",
    "\n",
    "r = int(input('Enter a grid size (up to 7 only due to size restrictions): '))\n",
    "\n",
    "draw_grid(r)"
   ]
  },
  {
   "cell_type": "code",
   "execution_count": null,
   "metadata": {},
   "outputs": [],
   "source": []
  }
 ],
 "metadata": {
  "kernelspec": {
   "display_name": "Python 3",
   "language": "python",
   "name": "python3"
  },
  "language_info": {
   "codemirror_mode": {
    "name": "ipython",
    "version": 3
   },
   "file_extension": ".py",
   "mimetype": "text/x-python",
   "name": "python",
   "nbconvert_exporter": "python",
   "pygments_lexer": "ipython3",
   "version": "3.7.0"
  }
 },
 "nbformat": 4,
 "nbformat_minor": 2
}

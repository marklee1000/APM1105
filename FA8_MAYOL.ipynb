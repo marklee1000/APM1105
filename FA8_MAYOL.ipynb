{
 "cells": [
  {
   "cell_type": "markdown",
   "id": "bec7a728",
   "metadata": {},
   "source": [
    "Compute for the descriptive measures as shown in the attached file for the df, which can be accessed at https://raw.githubusercontent.com/Apress/data-analysis-and-visualization-using-python/master/Ch07/Salaries.csv."
   ]
  },
  {
   "cell_type": "code",
   "execution_count": 84,
   "id": "9a837281",
   "metadata": {
    "scrolled": true
   },
   "outputs": [
    {
     "name": "stdout",
     "output_type": "stream",
     "text": [
      "Descriptive Statistics of the Salaries, grouped by Rank\n",
      "\n",
      "rank                          AssocProf      AsstProf           Prof\n",
      "Valid                         13.000000     19.000000      46.000000\n",
      "Missing                        0.000000      0.000000       0.000000\n",
      "Median                    103613.000000  78500.000000  123321.500000\n",
      "Mean                       91786.230769  81362.789474  123624.804348\n",
      "Std. Error of Mean          5150.719625   2152.205275    3663.975052\n",
      "Std. Deviation             18571.183714   9381.245301   24850.287853\n",
      "Coefficient of Variation       0.202331      0.115301       0.201014\n",
      "Skewness                      -0.151200      0.030504       0.070309\n",
      "Std. Error of Skewness         0.616336      0.523767       0.350096\n",
      "Kurtosis                      -1.614149     -1.011154       0.201339\n",
      "Std. Error of Kurtosis         1.190874      1.014270       0.687628\n",
      "Minimum                    62884.000000  63100.000000   57800.000000\n",
      "Maximum                   119800.000000  97032.000000  186960.000000\n",
      "25th percentile            71512.000000  72500.000000   93675.000000\n",
      "50th percentile            73912.000000  73300.000000  103275.000000\n",
      "75th percentile            74830.000000  74096.000000  105112.500000\n",
      "10th percentile            76432.000000  74832.800000  108473.000000\n",
      "20th percentile            80528.000000  77100.000000  116450.000000\n",
      "30th percentile           103613.000000  78500.000000  123321.500000\n",
      "40th percentile           103798.800000  84045.000000  127512.000000\n",
      "60th percentile           104213.200000  89800.000000  135889.000000\n",
      "70th percentile           104542.000000  91150.000000  143512.250000\n",
      "80th percentile           106021.600000  91580.000000  148750.000000\n",
      "90th percentile           109121.600000  92000.000000  154750.000000\n"
     ]
    }
   ],
   "source": [
    "#Import Python Libraries\n",
    "import numpy as np\n",
    "import scipy as sp\n",
    "import pandas as pd\n",
    "import matplotlib as mpl\n",
    "import seaborn as sns\n",
    "from scipy.stats import sem\n",
    "from scipy.stats import kurtosis\n",
    "\n",
    "#Read csv file\n",
    "df = pd.read_csv(\"https://raw.githubusercontent.com/kdmp-02/Example-Dataset/main/Salaries.csv\")\n",
    "\n",
    "# Load the dataset into a dataframe\n",
    "df = pd.read_csv(\"https://raw.githubusercontent.com/Apress/data-analysis-and-visualization-using-python/master/Ch07/Salaries.csv\")\n",
    "\n",
    "print('Descriptive Statistics of the Salaries, grouped by Rank\\n')\n",
    "\n",
    "# Valid values\n",
    "\n",
    "valid_df = df.groupby('rank').apply(lambda x: x.notnull().sum())\n",
    "valid_df = valid_df.loc[:,['salary']]\n",
    "valid_df.columns = ['Valid']\n",
    "\n",
    "# Missing values\n",
    "\n",
    "missing_df = df.groupby('rank').apply(lambda x: x.isnull().sum())\n",
    "missing_df = missing_df.loc[:,['salary']]\n",
    "missing_df.columns = ['Missing']\n",
    "\n",
    "# Median, Mean, Std. Error of Mean, Std. Deviation\n",
    "grouped1_df = df.groupby('rank')['salary'].agg(['median', 'mean', 'sem', 'std'])\n",
    "\n",
    "# Coefficient of variation\n",
    "cv_df = df.groupby('rank')['salary'].apply(lambda x: x.std() / x.mean()).to_frame(name='cv')\n",
    "\n",
    "# Skewness\n",
    "skew_df = df.groupby('rank')['salary'].agg(['skew'])\n",
    "\n",
    "# Standard Error of Skewness\n",
    "def skew_sde(x):\n",
    "    n = len(x)\n",
    "    return np.sqrt(6 * n * (n-1) / ((n-2) * (n+1) * (n+3)))\n",
    "ses_df = df.groupby('rank')['salary'].apply(skew_sde).to_frame(name='ses')\n",
    "\n",
    "# Kurtosis\n",
    "kurtosis = lambda x: x.kurtosis()\n",
    "kurt_df = df.groupby('rank')['salary'].apply(lambda x: x.kurtosis()).to_frame(name='kurt')\n",
    "\n",
    "# Standard Error of Kurtosis\n",
    "def kurt_sde(x):\n",
    "    n = len(x)\n",
    "    return np.sqrt(24 * n * (n-1)**2 / ((n-3) * (n-2) * (n+3) * (n+5)))\n",
    "sek_df = df.groupby('rank')['salary'].apply(kurt_sde).to_frame(name='sek')\n",
    "\n",
    "# Minimum and Maximum\n",
    "grouped3_df = df.groupby('rank')['salary'].agg(['min', 'max'])\n",
    "\n",
    "# Percentiles\n",
    "quantiles_df = df.groupby('rank')['salary'].quantile([0.25, 0.5, 0.75, 0.1, 0.2, 0.3, 0.4, 0.6, 0.7, 0.8, 0.9]).unstack()\n",
    "quantiles_df.columns = ['25th percentile', '50th percentile', '75th percentile', '10th percentile', '20th percentile', '30th percentile', '40th percentile', '60th percentile', '70th percentile', '80th percentile', '90th percentile']\n",
    "\n",
    "# Joining\n",
    "grouped1_df = pd.concat([valid_df, missing_df, grouped1_df, cv_df, skew_df, ses_df, kurt_df, sek_df, grouped3_df, quantiles_df], axis=1)\n",
    "\n",
    "# Renaming\n",
    "grouped1_df.rename(columns={'median': 'Median', 'mean': 'Mean', 'sem': 'Std. Error of Mean', 'std': 'Std. Deviation', 'cv': 'Coefficient of Variation', 'skew': 'Skewness', 'ses': 'Std. Error of Skewness', 'kurt': 'Kurtosis', 'sek': 'Std. Error of Kurtosis', 'min': 'Minimum', 'max': 'Maximum'}, inplace=True)\n",
    "\n",
    "# Display\n",
    "print(grouped1_df.transpose())"
   ]
  }
 ],
 "metadata": {
  "kernelspec": {
   "display_name": "Python 3 (ipykernel)",
   "language": "python",
   "name": "python3"
  },
  "language_info": {
   "codemirror_mode": {
    "name": "ipython",
    "version": 3
   },
   "file_extension": ".py",
   "mimetype": "text/x-python",
   "name": "python",
   "nbconvert_exporter": "python",
   "pygments_lexer": "ipython3",
   "version": "3.11.1"
  }
 },
 "nbformat": 4,
 "nbformat_minor": 5
}

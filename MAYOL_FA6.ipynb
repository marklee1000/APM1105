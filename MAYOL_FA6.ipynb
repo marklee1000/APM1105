{
 "cells": [
  {
   "cell_type": "markdown",
   "id": "f48ccb32",
   "metadata": {},
   "source": [
    "1. Create an exponent calculator using both iterations and recursion, with rendering time.\n",
    "\n",
    "Note:\n",
    "\n",
    "In this project, you define two functions: iterative_exponent and recursive_exponent, which calculate the exponent of a given base using iteration and recursion respectively. You then take user input for the base and exponent and use both functions to calculate the exponent.\n",
    "You may use the time module to measure the rendering time of each calculation. You may start a timer before each calculation and stop it afterwards, then calculate the difference between the two times to get the rendering time.\n",
    "The final display should print out the results and the rendering time for each calculation.\n",
    "Question:\n",
    "\n",
    "Which of the two functions performs faster? And why is it performing faster?"
   ]
  },
  {
   "cell_type": "code",
   "execution_count": 14,
   "id": "3dbe34a8",
   "metadata": {
    "scrolled": true
   },
   "outputs": [
    {
     "name": "stdout",
     "output_type": "stream",
     "text": [
      "Enter the base number: 2\n",
      "Enter the exponent: 11\n",
      "\n",
      "Iteration result:  2048\n",
      "Render time: 0.0 seconds\n",
      "\n",
      "Recursion result:  2048\n",
      "Render time: 0.0009970664978027344 seconds\n",
      "\n"
     ]
    }
   ],
   "source": [
    "import time\n",
    "\n",
    "def iterative_exponent(base,exp):\n",
    "    result = 1\n",
    "    \n",
    "    if (base == 0 and exp <= 0):\n",
    "        print(\"Invalid input. Please don't use 0^n where n <= 0\")\n",
    "    else:\n",
    "        for x in range(abs(exp)): #abs(exp) takes absolute value of exponent (for exp<0)\n",
    "            result = result * base\n",
    "        if exp < 0:\n",
    "            return 1/result #a number raised to negative exponent is the reciprocal of the number raised to positive version\n",
    "        else:\n",
    "            return result\n",
    "        \n",
    "def recursive_exponent(base,exp):\n",
    "    if (base == 0 and exp <= 0):\n",
    "        print(\"Invalid input. Please don't use 0^0 and negative exponents.\")\n",
    "    else:\n",
    "        if exp == 0:\n",
    "            return 1\n",
    "        elif exp < 0:\n",
    "            return (1/(base*recursive_exponent(base,abs(exp)-1)))\n",
    "        else:\n",
    "            return (base*recursive_exponent(base,exp-1))\n",
    "\n",
    "base = int(input(\"Enter the base number: \"))\n",
    "exp = int(input(\"Enter the exponent: \"))\n",
    "\n",
    "start = time.time()\n",
    "print(\"\\nIteration result: \",iterative_exponent(base,exp))\n",
    "end = time.time()\n",
    "print(f\"Render time: {end-start} seconds\\n\")\n",
    "\n",
    "start = time.time()\n",
    "print(\"Recursion result: \",recursive_exponent(base,exp))\n",
    "end = time.time()\n",
    "print(f\"Render time: {end-start} seconds\\n\")"
   ]
  },
  {
   "cell_type": "markdown",
   "id": "ac392581",
   "metadata": {},
   "source": [
    "For very small outputs (<1000), the render time for both iteration and recursion is 0 seconds. But when the output gets larger than 1000, the render time for recursion will appear SOMETIMES while for iteration render time is still 0. Then for very large numbers, the recursion render time is ALWAYS more than the iteration render time.\n",
    "\n",
    "To conclude, iteration is faster than recursion. Unlike recursion, iteration stops until a case is met and thus require less processing time."
   ]
  },
  {
   "cell_type": "code",
   "execution_count": null,
   "id": "cc95ae96",
   "metadata": {},
   "outputs": [],
   "source": []
  },
  {
   "cell_type": "markdown",
   "id": "1b1ae29e",
   "metadata": {},
   "source": [
    "2. Iteratively and recursively calculate the sum of the first n powers of 2, along with the rendering time of each function using the time module.\n",
    "\n",
    "Note: Use user input for me to check the process.\n",
    "\n",
    "Question:\n",
    "\n",
    "Which of the two functions performs faster? And why is it performing faster?"
   ]
  },
  {
   "cell_type": "code",
   "execution_count": 17,
   "id": "f05648ee",
   "metadata": {},
   "outputs": [
    {
     "name": "stdout",
     "output_type": "stream",
     "text": [
      "Enter the value of n: 100\n",
      "\n",
      "The sum of powers of 2 using iteration for n = 100 is 2535301200456458802993406410751\n",
      "Time taken: 0.0 seconds\n",
      "\n",
      "\n",
      "The sum of powers of 2 using recursion for n = 100 is 2535301200456458802993406410751\n",
      "Time taken: 0.0009975433349609375 seconds\n",
      "\n"
     ]
    }
   ],
   "source": [
    "import time\n",
    "\n",
    "def iterative_sum(n):\n",
    "    sum = 0\n",
    "    while n >= 0:\n",
    "        result = sum + 2**(n)\n",
    "        sum = result\n",
    "        n = n - 1\n",
    "    return sum\n",
    "\n",
    "def recursive_sum(n):\n",
    "    if n == 0:\n",
    "        return 1\n",
    "    else:\n",
    "        return (2**n + recursive_sum(n-1))\n",
    "\n",
    "n = int(input('Enter the value of n: '))\n",
    "\n",
    "start = time.time()\n",
    "print(\"\\nThe sum of powers of 2 using iteration for n =\",n, \"is\",iterative_sum(n))\n",
    "end = time.time()\n",
    "print(f\"Time taken: {end-start} seconds\\n\")\n",
    "\n",
    "start = time.time()\n",
    "print(\"\\nThe sum of powers of 2 using recursion for n =\",n, \"is\",recursive_sum(n))\n",
    "end = time.time()\n",
    "print(f\"Time taken: {end-start} seconds\\n\")"
   ]
  },
  {
   "cell_type": "markdown",
   "id": "c2701314",
   "metadata": {},
   "source": [
    "This time, the render times for both methods are always zero until n gets quite large (n>100). Also, their render times will sometimes be both zero even at very large n numbers. Most of the time, both render times are zero but there are unoccasional instances where recursion is VERY SLIGHTLY SLOWER than iteration. Thus for this problem, they have more or less the same processing time but iteration will sometimes be FASTER than recursion. This is maybe for the same reason as 1 where iteration requires less processing time."
   ]
  },
  {
   "cell_type": "code",
   "execution_count": null,
   "id": "c1927290",
   "metadata": {},
   "outputs": [],
   "source": []
  }
 ],
 "metadata": {
  "kernelspec": {
   "display_name": "Python 3 (ipykernel)",
   "language": "python",
   "name": "python3"
  },
  "language_info": {
   "codemirror_mode": {
    "name": "ipython",
    "version": 3
   },
   "file_extension": ".py",
   "mimetype": "text/x-python",
   "name": "python",
   "nbconvert_exporter": "python",
   "pygments_lexer": "ipython3",
   "version": "3.9.13"
  }
 },
 "nbformat": 4,
 "nbformat_minor": 5
}
